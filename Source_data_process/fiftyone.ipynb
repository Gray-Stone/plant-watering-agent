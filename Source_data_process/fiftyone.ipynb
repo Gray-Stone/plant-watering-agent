{
 "cells": [
  {
   "cell_type": "code",
   "execution_count": 12,
   "metadata": {},
   "outputs": [
    {
     "name": "stdout",
     "output_type": "stream",
     "text": [
      "Downloading split 'train' to '/mnt/wd-blue/fiftyone/open-images-v7/train' if necessary\n",
      "Necessary images already downloaded\n",
      "Existing download of split 'train' is sufficient\n",
      "Loading existing dataset 'open-images-v7-train-100'. To reload from disk, either delete the existing dataset or provide a custom `dataset_name` to use\n"
     ]
    }
   ],
   "source": [
    "import fiftyone.zoo as foz\n",
    "import fiftyone.core.dataset\n",
    "\n",
    "\n",
    "dataset: fiftyone.core.dataset.Dataset = foz.load_zoo_dataset(\n",
    "    \"open-images-v7\",\n",
    "    split=\"train\",\n",
    "    max_samples=100,\n",
    "    classes=[\"Flowerpot\"] , # vase does have some good image, but might not be best\n",
    "    label_types=[\"segmentations\"],\n",
    "    label_field=\"Flowerpot\",\n",
    "    num_workers = 20\n",
    ")\n",
    "dataset.persistent = True\n"
   ]
  },
  {
   "cell_type": "code",
   "execution_count": 11,
   "metadata": {},
   "outputs": [
    {
     "name": "stdout",
     "output_type": "stream",
     "text": [
      "dict_keys(['hierarchy', 'segmentation_classes', 'classes_map'])\n",
      "Name:        open-images-v7-train-100\n",
      "Media type:  image\n",
      "Num samples: 100\n",
      "Persistent:  True\n",
      "Tags:        []\n",
      "Sample fields:\n",
      "    id:        fiftyone.core.fields.ObjectIdField\n",
      "    filepath:  fiftyone.core.fields.StringField\n",
      "    tags:      fiftyone.core.fields.ListField(fiftyone.core.fields.StringField)\n",
      "    metadata:  fiftyone.core.fields.EmbeddedDocumentField(fiftyone.core.metadata.ImageMetadata)\n",
      "    Flowerpot: fiftyone.core.fields.EmbeddedDocumentField(fiftyone.core.labels.Detections)\n"
     ]
    }
   ],
   "source": [
    "print(dataset.info.keys())\n",
    "print(dataset)\n"
   ]
  },
  {
   "cell_type": "code",
   "execution_count": 14,
   "metadata": {},
   "outputs": [
    {
     "name": "stdout",
     "output_type": "stream",
     "text": [
      "Directory '../../image_fiftyone2/coco' already exists; export will be merged with existing files\n",
      "   6% |█/---------------|   6/100 [112.1ms elapsed, 1.8s remaining, 53.5 samples/s] "
     ]
    },
    {
     "name": "stderr",
     "output_type": "stream",
     "text": [
      "/home/leogray/.local/lib/python3.10/site-packages/fiftyone/utils/coco.py:840: UserWarning: Ignoring object with label 'Toy' not in provided classes\n",
      "  warnings.warn(msg)\n",
      "/home/leogray/.local/lib/python3.10/site-packages/fiftyone/utils/coco.py:840: UserWarning: Ignoring object with label 'Sun hat' not in provided classes\n",
      "  warnings.warn(msg)\n",
      "/home/leogray/.local/lib/python3.10/site-packages/fiftyone/utils/coco.py:840: UserWarning: Ignoring object with label 'Sombrero' not in provided classes\n",
      "  warnings.warn(msg)\n",
      "/home/leogray/.local/lib/python3.10/site-packages/fiftyone/utils/coco.py:840: UserWarning: Ignoring object with label 'Cowboy hat' not in provided classes\n",
      "  warnings.warn(msg)\n",
      "/home/leogray/.local/lib/python3.10/site-packages/fiftyone/utils/coco.py:840: UserWarning: Ignoring object with label 'Flower' not in provided classes\n",
      "  warnings.warn(msg)\n",
      "/home/leogray/.local/lib/python3.10/site-packages/fiftyone/utils/coco.py:840: UserWarning: Ignoring object with label 'Vase' not in provided classes\n",
      "  warnings.warn(msg)\n",
      "/home/leogray/.local/lib/python3.10/site-packages/fiftyone/utils/coco.py:840: UserWarning: Ignoring object with label 'Clothing' not in provided classes\n",
      "  warnings.warn(msg)\n",
      "/home/leogray/.local/lib/python3.10/site-packages/fiftyone/utils/coco.py:840: UserWarning: Ignoring object with label 'Woman' not in provided classes\n",
      "  warnings.warn(msg)\n"
     ]
    },
    {
     "name": "stdout",
     "output_type": "stream",
     "text": [
      "  22% |███|-------------|  22/100 [515.7ms elapsed, 1.8s remaining, 42.7 samples/s] "
     ]
    },
    {
     "name": "stderr",
     "output_type": "stream",
     "text": [
      "/home/leogray/.local/lib/python3.10/site-packages/fiftyone/utils/coco.py:840: UserWarning: Ignoring object with label 'Common sunflower' not in provided classes\n",
      "  warnings.warn(msg)\n",
      "/home/leogray/.local/lib/python3.10/site-packages/fiftyone/utils/coco.py:840: UserWarning: Ignoring object with label 'Picture frame' not in provided classes\n",
      "  warnings.warn(msg)\n"
     ]
    },
    {
     "name": "stdout",
     "output_type": "stream",
     "text": [
      "  49% |████████/--------|  49/100 [2.1s elapsed, 2.7s remaining, 16.5 samples/s]    "
     ]
    },
    {
     "name": "stderr",
     "output_type": "stream",
     "text": [
      "/home/leogray/.local/lib/python3.10/site-packages/fiftyone/utils/coco.py:840: UserWarning: Ignoring object with label 'Dog' not in provided classes\n",
      "  warnings.warn(msg)\n",
      "/home/leogray/.local/lib/python3.10/site-packages/fiftyone/utils/coco.py:840: UserWarning: Ignoring object with label 'Bottle' not in provided classes\n",
      "  warnings.warn(msg)\n",
      "/home/leogray/.local/lib/python3.10/site-packages/fiftyone/utils/coco.py:840: UserWarning: Ignoring object with label 'Human body' not in provided classes\n",
      "  warnings.warn(msg)\n",
      "/home/leogray/.local/lib/python3.10/site-packages/fiftyone/utils/coco.py:840: UserWarning: Ignoring object with label 'Barrel' not in provided classes\n",
      "  warnings.warn(msg)\n"
     ]
    },
    {
     "name": "stdout",
     "output_type": "stream",
     "text": [
      "  62% |██████████/------|  62/100 [3.0s elapsed, 2.2s remaining, 16.1 samples/s]    "
     ]
    },
    {
     "name": "stderr",
     "output_type": "stream",
     "text": [
      "/home/leogray/.local/lib/python3.10/site-packages/fiftyone/utils/coco.py:840: UserWarning: Ignoring object with label 'Cat' not in provided classes\n",
      "  warnings.warn(msg)\n"
     ]
    },
    {
     "name": "stdout",
     "output_type": "stream",
     "text": [
      " 100% |█████████████████| 100/100 [4.3s elapsed, 0s remaining, 29.5 samples/s]      \n"
     ]
    },
    {
     "name": "stderr",
     "output_type": "stream",
     "text": [
      "/home/leogray/.local/lib/python3.10/site-packages/fiftyone/utils/coco.py:840: UserWarning: Ignoring object with label 'Car' not in provided classes\n",
      "  warnings.warn(msg)\n",
      "/home/leogray/.local/lib/python3.10/site-packages/fiftyone/utils/coco.py:840: UserWarning: Ignoring object with label 'Flag' not in provided classes\n",
      "  warnings.warn(msg)\n"
     ]
    }
   ],
   "source": [
    "import fiftyone.types\n",
    "\n",
    "dataset.export(export_dir=\"../../image_fiftyone2/coco\",\n",
    "               dataset_type=fiftyone.types.COCODetectionDataset,\n",
    "               progress = True,\n",
    "               classes=[\"Flowerpot\"],\n",
    "            #    label_field=\"segmentations\"\n",
    "               )\n"
   ]
  }
 ],
 "metadata": {
  "kernelspec": {
   "display_name": "Python 3",
   "language": "python",
   "name": "python3"
  },
  "language_info": {
   "codemirror_mode": {
    "name": "ipython",
    "version": 3
   },
   "file_extension": ".py",
   "mimetype": "text/x-python",
   "name": "python",
   "nbconvert_exporter": "python",
   "pygments_lexer": "ipython3",
   "version": "3.10.12"
  }
 },
 "nbformat": 4,
 "nbformat_minor": 2
}
